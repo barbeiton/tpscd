{
 "cells": [
  {
   "cell_type": "markdown",
   "metadata": {},
   "source": [
    "# Trabajo Práctico Módulo 1 - Análisis Básicos\n",
    "\n",
    "## Exploración Preliminar y Gráficos\n",
    " "
   ]
  },
  {
   "cell_type": "code",
   "execution_count": 1,
   "metadata": {},
   "outputs": [],
   "source": [
    "import numpy as np\n",
    "from scipy import stats\n",
    "import matplotlib.pyplot as plt\n",
    "import seaborn\n",
    "import random\n"
   ]
  },
  {
   "cell_type": "code",
   "execution_count": 2,
   "metadata": {
    "collapsed": true
   },
   "outputs": [],
   "source": [
    "data0 = np.loadtxt('tiempos.txt', skiprows=1)\n",
    "data = np.loadtxt('tiemposCorregidos.txt', skiprows=1)"
   ]
  },
  {
   "cell_type": "markdown",
   "metadata": {},
   "source": [
    "#### Series de tiempo (Figura 1)"
   ]
  },
  {
   "cell_type": "code",
   "execution_count": 3,
   "metadata": {},
   "outputs": [
    {
     "name": "stdout",
     "output_type": "stream",
     "text": [
      "[[   1.    11.1   11.3   19.4]\n",
      " [   2.    13.    12.8   18.2]\n",
      " [   3.    16.1   16.    19. ]\n",
      " [   4.    14.5   14.1   18.9]\n",
      " [   5.    12.    12.5   19.1]\n",
      " [   6.    11.    11.6   18.7]\n",
      " [   7.    15.1   14.6  189. ]\n",
      " [   8.    14.4   14.2   19.9]\n",
      " [   9.    16.1   16.1   18.5]\n",
      " [  10.    17.    16.7   19.2]\n",
      " [  11.    12.2   12.4   18.8]\n",
      " [  12.    14.4   14.1   19.2]]\n"
     ]
    }
   ],
   "source": [
    "print(data0)"
   ]
  },
  {
   "cell_type": "code",
   "execution_count": 4,
   "metadata": {},
   "outputs": [
    {
     "data": {
      "image/png": "[encoded data removed]",
      "text/plain": [
       "<matplotlib.figure.Figure at 0x9f6f940>"
      ]
     },
     "metadata": {},
     "output_type": "display_data"
    }
   ],
   "source": [
    "plt.figure()\n",
    "plt.scatter(data0[:,0], data0[:,1],label = \"Soleado\")\n",
    "plt.scatter(data0[:,0], data0[:,2],label = \"Nublado\")\n",
    "plt.scatter(data0[:,0], data0[:,3],label = \"Lluvioso\")\n",
    "plt.legend()\n",
    "plt.legend(loc='upper center', bbox_to_anchor=(0.5, 1.15),fancybox=True, shadow=True, ncol=6)\n",
    "plt.xlabel('Atleta')\n",
    "plt.ylabel('Tiempos ')\n",
    "plt.xlim(0,13)\n",
    "plt.savefig(\"Datos0\", dpi = 300)\n",
    "plt.show()\n",
    "plt.close()   # Terminar un gráfico"
   ]
  },
  {
   "cell_type": "markdown",
   "metadata": {},
   "source": [
    "#### Series de tiempo depurada (Figura 2)"
   ]
  },
  {
   "cell_type": "code",
   "execution_count": 5,
   "metadata": {},
   "outputs": [
    {
     "name": "stdout",
     "output_type": "stream",
     "text": [
      "[[  1.   11.1  11.3  19.4]\n",
      " [  2.   13.   12.8  18.2]\n",
      " [  3.   16.1  16.   19. ]\n",
      " [  4.   14.5  14.1  18.9]\n",
      " [  5.   12.   12.5  19.1]\n",
      " [  6.   11.   11.6  18.7]\n",
      " [  7.   15.1  14.6  18.9]\n",
      " [  8.   14.4  14.2  19.9]\n",
      " [  9.   16.1  16.1  18.5]\n",
      " [ 10.   17.   16.7  19.2]\n",
      " [ 11.   12.2  12.4  18.8]\n",
      " [ 12.   14.4  14.1  19.2]]\n"
     ]
    }
   ],
   "source": [
    "print(data)"
   ]
  },
  {
   "cell_type": "code",
   "execution_count": 6,
   "metadata": {},
   "outputs": [
    {
     "data": {
      "image/png": "[encoded data removed]",
      "text/plain": [
       "<matplotlib.figure.Figure at 0xa34bc88>"
      ]
     },
     "metadata": {},
     "output_type": "display_data"
    }
   ],
   "source": [
    "plt.figure()\n",
    "plt.scatter(data[:,0], data[:,1],label = \"Soleado\")\n",
    "plt.scatter(data[:,0], data[:,2],label = \"Nublado\")\n",
    "plt.scatter(data[:,0], data[:,3],label = \"Lluvioso\")\n",
    "plt.legend()\n",
    "plt.legend(loc='upper center', bbox_to_anchor=(0.5, 1.15),fancybox=True, shadow=True, ncol=6)\n",
    "plt.xlabel('Atleta')\n",
    "plt.ylabel('Tiempos ')\n",
    "plt.xlim(0,13)\n",
    "plt.savefig(\"Datos\", dpi = 300)\n",
    "plt.show()\n",
    "plt.close()   # Terminar un gráfico\n"
   ]
  },
  {
   "cell_type": "markdown",
   "metadata": {},
   "source": [
    "### Estudio de distribución de las series"
   ]
  },
  {
   "cell_type": "code",
   "execution_count": 7,
   "metadata": {
    "collapsed": true
   },
   "outputs": [],
   "source": [
    "tiempos_sol = data[:,1] \n",
    "tiempos_nub = data[:,2]\n",
    "tiempos_llu = data[:,3]\n",
    "tituloEstadistico = [\"Serie\", \"Estadistico\", \"p-valor\"]\n",
    "\n",
    "def graficarTabla(test, titulo, datos):\n",
    "    print(\"Test de \", test)\n",
    "    print(\"{:20} | {:20} | {:20}\".format(titulo[0], titulo[1], titulo[2]))\n",
    "    for serie, res in datos.items():\n",
    "        print(\"{:20} | {:20} | {:20}\".format(serie, res[0],  res[1]))\n"
   ]
  },
  {
   "cell_type": "markdown",
   "metadata": {},
   "source": [
    "#### Test de  Shapiro (Tabla 1)"
   ]
  },
  {
   "cell_type": "code",
   "execution_count": 8,
   "metadata": {},
   "outputs": [
    {
     "name": "stdout",
     "output_type": "stream",
     "text": [
      "Test de  Shapiro\n",
      "Serie                | Estadistico          | p-valor             \n",
      "Soleado              |   0.9382140636444092 |  0.47528842091560364\n",
      "Nublado              |   0.9423919916152954 |   0.5296684503555298\n",
      "Lluvioso             |    0.978437602519989 |   0.9766601324081421\n"
     ]
    }
   ],
   "source": [
    "testShapiro = {}\n",
    "testShapiro[\"Soleado\"] = stats.shapiro(tiempos_sol)\n",
    "testShapiro[\"Nublado\"] = stats.shapiro(tiempos_nub)\n",
    "testShapiro[\"Lluvioso\"] = stats.shapiro(tiempos_llu)\n",
    "graficarTabla(\"Shapiro\", tituloEstadistico, testShapiro)\n"
   ]
  },
  {
   "cell_type": "markdown",
   "metadata": {},
   "source": [
    "#### Histogramas de frecuencia (Figura 3)"
   ]
  },
  {
   "cell_type": "code",
   "execution_count": 9,
   "metadata": {},
   "outputs": [
    {
     "data": {
      "image/png": "[encoded data removed]",
      "text/plain": [
       "<matplotlib.figure.Figure at 0xa3d7940>"
      ]
     },
     "metadata": {},
     "output_type": "display_data"
    }
   ],
   "source": [
    "plt.figure()\n",
    "\n",
    "plt.subplot(1,3,1)\n",
    "plt.hist(tiempos_sol)\n",
    "plt.title(\"Histograma día soleado\")\n",
    "#plt.savefig(\"Hist_Soleado\", dpi = 300)\n",
    "\n",
    "plt.subplot(1,3,2)\n",
    "plt.hist(tiempos_nub)\n",
    "plt.title(\"Histograma día nublado\")\n",
    "#plt.savefig(\"Hist_Nublado\", dpi = 300)\n",
    "\n",
    "plt.subplot(1,3,3)\n",
    "plt.hist(tiempos_llu)\n",
    "plt.title(\"Histograma día lluvioso\")\n",
    "#plt.savefig(\"Hist_Lluvioso\", dpi = 300)\n",
    "plt.savefig(\"Histogramas\", dpi = 300)\n",
    "plt.show()\n",
    "plt.close()   # Terminar un gráfico\n"
   ]
  },
  {
   "cell_type": "markdown",
   "metadata": {},
   "source": [
    "## Test\n",
    " \n",
    "### Approach Nº1 - Series con distribuciones normales\n",
    "\n",
    "#### Test de  Pearson (Tabla 2)\n"
   ]
  },
  {
   "cell_type": "code",
   "execution_count": 10,
   "metadata": {},
   "outputs": [
    {
     "name": "stdout",
     "output_type": "stream",
     "text": [
      "Test de  Pearson\n",
      "Serie                | Coef. de Correlación | p-valor             \n",
      "Sol - Lluvia         |   0.0525893206142193 |   0.8710570171791218\n",
      "Nublado - Lluvia     |  0.04228906602480422 |    0.896177007833118\n",
      "Sol - Nublado        |   0.9908237767557433 | 5.045646399806607e-10\n"
     ]
    }
   ],
   "source": [
    "tituloCorrelacion = [\"Serie\", \"Coef. de Correlación\", \"p-valor\"]\n",
    "testPearson = {}\n",
    "testPearson[\"Sol - Lluvia\"] = stats.pearsonr(tiempos_sol, tiempos_llu)\n",
    "testPearson[\"Nublado - Lluvia\"] = stats.pearsonr(tiempos_nub, tiempos_llu)\n",
    "testPearson[\"Sol - Nublado\"] = stats.pearsonr(tiempos_sol, tiempos_nub)\n",
    "graficarTabla(\"Pearson\", tituloCorrelacion, testPearson)\n"
   ]
  },
  {
   "cell_type": "markdown",
   "metadata": {},
   "source": [
    "#### t-Test de Muestras Apareadas (Tabla 3)\n"
   ]
  },
  {
   "cell_type": "code",
   "execution_count": 11,
   "metadata": {},
   "outputs": [
    {
     "name": "stdout",
     "output_type": "stream",
     "text": [
      "Test de  Muestras Apareadas\n",
      "Serie                | Estadistico          | p-valor             \n",
      "Lluvia - Sol         |    8.576227572594302 | 3.3516511607218045e-06\n",
      "Lluvia - Nublado     |    9.720128995157081 | 9.810399492877932e-07\n",
      "Sol - Nublado        |   0.4121382498605874 |   0.6881556115604558\n"
     ]
    }
   ],
   "source": [
    "testApareadas = {}\n",
    "testApareadas[\"Lluvia - Sol\"] = stats.ttest_rel(tiempos_llu, tiempos_sol)\n",
    "testApareadas[\"Lluvia - Nublado\"] = stats.ttest_rel(tiempos_llu, tiempos_nub)\n",
    "testApareadas[\"Sol - Nublado\"] = stats.ttest_rel(tiempos_sol, tiempos_nub)\n",
    "graficarTabla(\"Muestras Apareadas\", tituloEstadistico, testApareadas)\n"
   ]
  },
  {
   "cell_type": "markdown",
   "metadata": {},
   "source": [
    "### Approach Nº2 - Series con distribuciones desconocida\n",
    "\n",
    "#### Test de Wilcoxon (Tabla 4)\n"
   ]
  },
  {
   "cell_type": "code",
   "execution_count": 12,
   "metadata": {},
   "outputs": [
    {
     "name": "stdout",
     "output_type": "stream",
     "text": [
      "Test de  Wilcoxon\n",
      "Serie                | Estadistico          | p-valor             \n",
      "Sol - Lluvia         |                  0.0 | 0.002217721464237049\n",
      "Nublado - Lluvia     |                  0.0 | 0.002217721464237049\n",
      "Sol - Nublado        |                 28.5 |   0.6882065030738291\n"
     ]
    }
   ],
   "source": [
    "testWilcoxon = {}\n",
    "testWilcoxon[\"Sol - Lluvia\"] = stats.wilcoxon(tiempos_sol, tiempos_llu)\n",
    "testWilcoxon[\"Nublado - Lluvia\"] = stats.wilcoxon(tiempos_nub, tiempos_llu)\n",
    "testWilcoxon[\"Sol - Nublado\"] = stats.wilcoxon(tiempos_nub, tiempos_sol)\n",
    "graficarTabla(\"Wilcoxon\", tituloEstadistico, testWilcoxon)\n"
   ]
  },
  {
   "cell_type": "markdown",
   "metadata": {},
   "source": [
    "#### Test de Permutaciones (Tabla 5)"
   ]
  },
  {
   "cell_type": "code",
   "execution_count": 13,
   "metadata": {},
   "outputs": [
    {
     "name": "stdout",
     "output_type": "stream",
     "text": [
      "p-valor: 0.0\n"
     ]
    },
    {
     "data": {
      "image/png": "[encoded data removed]",
      "text/plain": [
       "<matplotlib.figure.Figure at 0xa368a20>"
      ]
     },
     "metadata": {},
     "output_type": "display_data"
    },
    {
     "name": "stdout",
     "output_type": "stream",
     "text": [
      "p-valor: 0.0\n"
     ]
    },
    {
     "data": {
      "image/png": "[encoded data removed]",
      "text/plain": [
       "<matplotlib.figure.Figure at 0xa584588>"
      ]
     },
     "metadata": {},
     "output_type": "display_data"
    },
    {
     "name": "stdout",
     "output_type": "stream",
     "text": [
      "p-valor: 0.31181\n"
     ]
    },
    {
     "data": {
      "image/png": "[encoded data removed]",
      "text/plain": [
       "<matplotlib.figure.Figure at 0xb90aa58>"
      ]
     },
     "metadata": {},
     "output_type": "display_data"
    }
   ],
   "source": [
    "def test_permutacion(v1, v2, times, titulo):\n",
    "    delta0 = np.mean(v1) - np.mean(v2)\n",
    "    \n",
    "    deltas = []\n",
    "    p = 0\n",
    "    for i in range(0, times):\n",
    "        t1 = 0\n",
    "        t2 = 0\n",
    "        for tiempo in zip(v1, v2):\n",
    "            r = random.random()\n",
    "            if  r < 0.5:\n",
    "                t1 += tiempo[0]\n",
    "                t2 += tiempo[1]\n",
    "            else:\n",
    "                t1 += tiempo[1]\n",
    "                t2 += tiempo[0]\n",
    "        \n",
    "        ndelta = t2/len(v2) - t1/len(v1) \n",
    "        deltas.insert(0, ndelta)\n",
    "        if ndelta > delta0:\n",
    "            p += 1\n",
    "\n",
    "    pvalue = p / times\n",
    "    \n",
    "    print(\"p-valor: \" + str(pvalue))\n",
    "\n",
    "    \n",
    "    plt.hist(deltas, facecolor='g', alpha=0.75)\n",
    "    plt.grid(True)\n",
    "    plt.axvline(delta0, color='r')\n",
    "    plt.xlabel('Deltas')\n",
    "    plt.title(titulo)\n",
    "    plt.show()\n",
    "    plt.savefig(titulo, dpi = 300)\n",
    "    plt.close()\n",
    "\n",
    "test_permutacion(tiempos_llu, tiempos_sol, 100000, \"Lluvioso vs Soleado\")\n",
    "test_permutacion(tiempos_llu, tiempos_nub, 100000, \"Lluvioso vs Nublado\")\n",
    "test_permutacion(tiempos_sol, tiempos_nub, 100000, \"Soleado vs Nublado\")\n"
   ]
  }
 ],
 "metadata": {
  "kernelspec": {
   "display_name": "Python 3",
   "language": "python",
   "name": "python3"
  },
  "language_info": {
   "codemirror_mode": {
    "name": "ipython",
    "version": 3
   },
   "file_extension": ".py",
   "mimetype": "text/x-python",
   "name": "python",
   "nbconvert_exporter": "python",
   "pygments_lexer": "ipython3",
   "version": "3.6.1"
  }
 },
 "nbformat": 4,
 "nbformat_minor": 2
}
