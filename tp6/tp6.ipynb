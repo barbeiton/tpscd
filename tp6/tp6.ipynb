{
 "cells": [
  {
   "cell_type": "markdown",
   "metadata": {},
   "source": [
    "# Trabajo Práctico 6 - Procesamiento de Lenguaje Natural"
   ]
  },
  {
   "cell_type": "markdown",
   "metadata": {},
   "source": [
    "## Asociación de palabras"
   ]
  },
  {
   "cell_type": "markdown",
   "metadata": {},
   "source": [
    "### 1. Levantar el corpus AP, separando cada noticia como un elemento distinto en un diccionario (<DOCNO>:<TEXT>)"
   ]
  },
  {
   "cell_type": "code",
   "execution_count": 1,
   "metadata": {},
   "outputs": [
    {
     "name": "stdout",
     "output_type": "stream",
     "text": [
      "[nltk_data] Downloading package punkt to /home/laura/nltk_data...\n",
      "[nltk_data]   Package punkt is already up-to-date!\n",
      "[nltk_data] Downloading package averaged_perceptron_tagger to\n",
      "[nltk_data]     /home/laura/nltk_data...\n",
      "[nltk_data]   Package averaged_perceptron_tagger is already up-to-\n",
      "[nltk_data]       date!\n",
      "[nltk_data] Downloading package stopwords to /home/laura/nltk_data...\n",
      "[nltk_data]   Package stopwords is already up-to-date!\n",
      "[nltk_data] Downloading package wordnet to /home/laura/nltk_data...\n",
      "[nltk_data]   Package wordnet is already up-to-date!\n"
     ]
    },
    {
     "data": {
      "text/plain": [
       "True"
      ]
     },
     "execution_count": 1,
     "metadata": {},
     "output_type": "execute_result"
    }
   ],
   "source": [
    "import nltk\n",
    "from nltk.corpus import wordnet\n",
    "from nltk.stem import WordNetLemmatizer\n",
    "from urllib import request\n",
    "from nltk import word_tokenize\n",
    "from nltk.corpus import stopwords\n",
    "from nltk.tokenize import RegexpTokenizer\n",
    "from io import StringIO\n",
    "import xml.etree.ElementTree as etree\n",
    "\n",
    "\n",
    "\n",
    "nltk.download('punkt')\n",
    "nltk.download('averaged_perceptron_tagger')\n",
    "nltk.download('stopwords')\n",
    "nltk.download('wordnet')"
   ]
  },
  {
   "cell_type": "code",
   "execution_count": 2,
   "metadata": {},
   "outputs": [],
   "source": [
    "diccionario = {}\n",
    "with open('ap.txt', 'rb') as apfile:\n",
    "\n",
    "    ap89_plain = apfile.read().decode('utf-8')\n",
    "\n",
    "    ap89_plain = '<DOCS>\\n' + ap89_plain + '</DOCS>\\n'\n",
    "    ap89_plain = ap89_plain.replace('&', '&#038;')\n",
    "    ap89_IO = StringIO(ap89_plain)\n",
    "    tree = etree.parse(ap89_IO)\n",
    "    root = tree.getroot()\n",
    "    \n",
    "    for child in root:\n",
    "        diccionario[child[0].text] = child[1].text\n",
    "\n"
   ]
  },
  {
   "cell_type": "code",
   "execution_count": 3,
   "metadata": {},
   "outputs": [],
   "source": [
    "def gwp(treebank_tag):\n",
    "\n",
    "    if treebank_tag.startswith('J'):\n",
    "        return wordnet.ADJ\n",
    "    elif treebank_tag.startswith('V'):\n",
    "        return wordnet.VERB\n",
    "    elif treebank_tag.startswith('N'):\n",
    "        return wordnet.NOUN\n",
    "    elif treebank_tag.startswith('R'):\n",
    "        return wordnet.ADV\n",
    "    else:\n",
    "        return None"
   ]
  },
  {
   "cell_type": "code",
   "execution_count": 4,
   "metadata": {},
   "outputs": [],
   "source": [
    "def limpiar(t):\n",
    "    stop = set(stopwords.words('english'))\n",
    "    \n",
    "    sent = nltk.sent_tokenize(t) # separar en oraciones\n",
    "    \n",
    "    tokenizer = RegexpTokenizer(\"[\\w']+\")\n",
    "    l = []\n",
    "    for s in map(tokenizer.tokenize, sent): # sacar stopwords\n",
    "        l.append([word for word in s if word not in stop])\n",
    "     \n",
    "    wl = WordNetLemmatizer()\n",
    "    r = []\n",
    "    importantes = ['J', 'V', 'N', 'R']\n",
    "    for s in map(nltk.pos_tag, l): # filtramos palabras importantes y con una longitud mayor a dos\n",
    "        r.append([wl.lemmatize(w, pos=gwp(t)) for (w, t) in s if w != t and len(w)>2 and t[0] in importantes] )\n",
    "      \n",
    "    return [item for l in r for item in l]\n",
    "\n",
    "palabras = []\n",
    "for noticia in diccionario.values():\n",
    "    for word in limpiar(noticia):\n",
    "        palabras.append(word)\n"
   ]
  },
  {
   "cell_type": "markdown",
   "metadata": {},
   "source": [
    "### 2. Calcular el tamaño del vocabulario."
   ]
  },
  {
   "cell_type": "code",
   "execution_count": 22,
   "metadata": {},
   "outputs": [
    {
     "data": {
      "image/png": "[encoded data removed]",
      "text/plain": [
       "<matplotlib.figure.Figure at 0x7f885840c6a0>"
      ]
     },
     "metadata": {},
     "output_type": "display_data"
    }
   ],
   "source": [
    "from nltk import FreqDist\n",
    "Freq=FreqDist(palabras)\n",
    "FreqDist(palabras).plot(40, cumulative=False)"
   ]
  },
  {
   "cell_type": "code",
   "execution_count": 5,
   "metadata": {},
   "outputs": [],
   "source": [
    "#from itertools import groupby\n",
    "\n",
    "#freq = {}\n",
    "#for palabra in set(palabras):\n",
    "#        freq[palabra] = palabras.count(palabra)"
   ]
  },
  {
   "cell_type": "code",
   "execution_count": 20,
   "metadata": {},
   "outputs": [
    {
     "name": "stdout",
     "output_type": "stream",
     "text": [
      "Tamaño del vocabulario: 36374\n"
     ]
    }
   ],
   "source": [
    "print('Tamaño del vocabulario: ' + str(len(Freq)))"
   ]
  },
  {
   "cell_type": "code",
   "execution_count": 7,
   "metadata": {},
   "outputs": [],
   "source": [
    "#most_freq = sorted(freq.items(), key=lambda x: x[1], reverse=True)[0:500]\n",
    "#print (most_freq)"
   ]
  },
  {
   "cell_type": "markdown",
   "metadata": {},
   "source": [
    "### 3. Para las 500 palabras con más apariciones, calcular el par más asociado según la medida presentada."
   ]
  },
  {
   "cell_type": "code",
   "execution_count": 27,
   "metadata": {},
   "outputs": [
    {
     "name": "stdout",
     "output_type": "stream",
     "text": [
      "[('Cam', 'Ranh'), ('Chi', 'Chi'), ('Cordon', 'Bleu'), ('Croatia', 'Slovenia'), ('Doo', 'hwan'), ('Gazeta', 'Wyborcza'), ('Guess', 'Jeans'), ('JNB', 'Exploration'), ('Novaya', 'Zemlya'), ('Nueva', 'Vizcaya'), ('Palmieri', 'Billig'), ('Palo', 'Alto'), ('Tan', 'Ching'), ('Term', 'Strategy'), ('Yasuhiro', 'Nakasone'), ('Yom', 'Kippur'), ('avant', 'garde'), ('Adventures', 'Munchausen'), ('Coeur', \"d'Alene\"), ('Coral', 'Gables')]\n"
     ]
    }
   ],
   "source": [
    "# Se buscan los pares de palabras más asociados dentro de todo el texto \n",
    "from nltk.collocations import *\n",
    "bigram_measures= nltk.collocations.BigramAssocMeasures()\n",
    "finder =BigramCollocationFinder.from_words(palabras,3)\n",
    "finder.apply_freq_filter(3)\n",
    "scored=finder.nbest(bigram_measures.pmi,20)\n",
    "print(scored)"
   ]
  },
  {
   "cell_type": "markdown",
   "metadata": {},
   "source": [
    "## Información Léxica\n",
    "Bajar de Project Gutenberg el libro de Darwin ON THE ORIGIN OF SPECIES.\n",
    "1. Procesar el texto, tokenizando eliminando signos de puntuación.\n",
    "2. Siguiendo el artículo de la sección, calcular la autocorrelación para estimar la distribución de la palabra a lo largo del texto.\n",
    "3. Armar una función que reciba una lista de tokens, una lista de palabras y un tamaño de ventana y devuelva una lista de probabilidades de encontrar la palabra en cada ventana para cada palabra pasada por parámetro.\n",
    "4. Calcular la entropía de la distribución de palabras seleccionadas para distintos tamaños de ventana.\n",
    "5. Generar una versión randomizada del texto, y medir la entropía de las palabras randomizadas.\n",
    "6. Distinguir las palabras del texto en artículos, sustantivos y adjetivos usando un POS-tagger. Verificar si las medidas separan a estos grupos de palabras."
   ]
  },
  {
   "cell_type": "code",
   "execution_count": 9,
   "metadata": {},
   "outputs": [],
   "source": [
    "# descargamos el libro\n",
    "url = \"http://www.gutenberg.org/cache/epub/1228/pg1228.txt\"\n",
    "response = request.urlopen(url)\n",
    "raw = response.read().decode('utf8')"
   ]
  },
  {
   "cell_type": "code",
   "execution_count": 10,
   "metadata": {},
   "outputs": [],
   "source": [
    "#se recortará el documento de forma tal que sólo quede el contenido de los distintos capítulos\n",
    "inicio=raw.rfind(\"INTRODUCTION.\") #aquí comenzaría\n",
    "fin=raw.rfind(\"INDEX.\") #aquí terminaría\n",
    "libro = raw[inicio:fin]\n",
    "\n",
    "#se tokenizará el texto y se eliminarán los signos de puntuación\n",
    "tokenizer = RegexpTokenizer(r'\\w+')\n",
    "lib_tok=tokenizer.tokenize(libro)\n",
    "#tokens = word_tokenize(libro)\n",
    "\n"
   ]
  },
  {
   "cell_type": "markdown",
   "metadata": {},
   "source": [
    "## Word embeddings, distancia semántica y WordNet\n",
    "1. Utilizando el test WordSim3531, comparar el rendimiento entre LSA y Word2Vec2.\n",
    "2. Comparar los distintos word embeddings con las medidas definidas en WordNet. "
   ]
  },
  {
   "cell_type": "code",
   "execution_count": null,
   "metadata": {},
   "outputs": [],
   "source": [
    " "
   ]
  }
 ],
 "metadata": {
  "kernelspec": {
   "display_name": "Python 3",
   "language": "python",
   "name": "python3"
  },
  "language_info": {
   "codemirror_mode": {
    "name": "ipython",
    "version": 3
   },
   "file_extension": ".py",
   "mimetype": "text/x-python",
   "name": "python",
   "nbconvert_exporter": "python",
   "pygments_lexer": "ipython3",
   "version": "3.5.3"
  }
 },
 "nbformat": 4,
 "nbformat_minor": 2
}
