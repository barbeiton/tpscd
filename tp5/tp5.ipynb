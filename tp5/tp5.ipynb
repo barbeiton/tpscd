{
 "cells": [
  {
   "cell_type": "markdown",
   "metadata": {},
   "source": [
    "# TP5 - Inferencia Bayesiana"
   ]
  },
  {
   "cell_type": "markdown",
   "metadata": {},
   "source": [
    "Considere el modelo Beta-Binomial para la moneda.\n",
    "\n",
    "1. Implementacion\n",
    "Implemente el modelo en pymc3 para los priors Beta(1,1) y Beta(100,100), y grafique las posteriors resultantes de observar 6 caras de 6 tiradas.\n",
    "\n",
    "2. Resúmenes\n",
    "Calcule el MAP (maximo a posteriori) y las medias de ambas posteriors.\n",
    "\n",
    "3. Prediccion\n",
    "Prediga, para ambos priors, el resultado de una nueva tirada de moneda.\n",
    "\n",
    "4. Otros datos\n",
    "Repita los puntos anteriores para una situacion en la que se observan 20 caras de 20 tiradas, y otra en la que se observan 3 caras de 3 tiradas. ¿Qu ́e puede concluir de los priors elegidos? ¿Y del modelo en general?\n",
    "\n",
    "5. Prior \n",
    "Pensando en su propia experiencia, considere cu ́antas caras consecutivas le har ́ıan empezar a sospechar que la moneda está cargada. A partir de este número y usando el modelo, diga cuáles son los parámetros de su prior Beta.\n",
    "\n",
    "http://people.duke.edu/~ccc14/sta-663-2016/16C_PyMC3.html"
   ]
  },
  {
   "cell_type": "code",
   "execution_count": 1,
   "metadata": {
    "collapsed": false
   },
   "outputs": [
    {
     "ename": "ImportError",
     "evalue": "No module named 'pymc3'",
     "output_type": "error",
     "traceback": [
      "\u001b[0;31m---------------------------------------------------------------------------\u001b[0m",
      "\u001b[0;31mImportError\u001b[0m                               Traceback (most recent call last)",
      "\u001b[0;32m<ipython-input-1-37bf2a3357ff>\u001b[0m in \u001b[0;36m<module>\u001b[0;34m()\u001b[0m\n\u001b[0;32m----> 1\u001b[0;31m \u001b[0;32mimport\u001b[0m \u001b[0mpymc3\u001b[0m\u001b[0;34m\u001b[0m\u001b[0m\n\u001b[0m",
      "\u001b[0;31mImportError\u001b[0m: No module named 'pymc3'"
     ]
    }
   ],
   "source": [
    "import pymc3\n",
    "import numpy.random as rng\n",
    "import scipy.stats as stats"
   ]
  }
 ],
 "metadata": {
  "kernelspec": {
   "display_name": "Python 3",
   "language": "python",
   "name": "python3"
  },
  "language_info": {
   "codemirror_mode": {
    "name": "ipython",
    "version": 3
   },
   "file_extension": ".py",
   "mimetype": "text/x-python",
   "name": "python",
   "nbconvert_exporter": "python",
   "pygments_lexer": "ipython3",
   "version": "3.4.3"
  }
 },
 "nbformat": 4,
 "nbformat_minor": 1
}
